cars=["a", "b", "c"]
cars.clear()
print(cars)
