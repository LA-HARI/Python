cars=["a", "b", "c"]



cars.copy()
print(cars)