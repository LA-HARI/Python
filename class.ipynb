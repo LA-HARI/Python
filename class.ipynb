class Lahari:
  x={1,2,3,4,5}
print(Lahari)
A= Lahari() ##A is the object for class Lahari##
print(A.x)


