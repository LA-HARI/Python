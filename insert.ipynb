cars=["a", "b", "c"]
buses=["A","B","C"]
x= cars.insert(2,"u")
y= buses.insert(3,"v")
print(cars)
print(buses)
cars.extend(buses)
print(cars)



