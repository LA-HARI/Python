cars=["a", "b", "c"]
cars.remove(cars[1])
print(cars)