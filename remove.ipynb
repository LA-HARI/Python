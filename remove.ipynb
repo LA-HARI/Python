cars=["a", "b", "c"]
cars.remove("b")
print(cars)