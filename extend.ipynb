cars=["a", "b", "c"]
buses=["A","B","C"]
x= cars.extend(buses)
print(cars)

