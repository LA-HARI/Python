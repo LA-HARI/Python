class Lahari:
 def __init__(self, b, c):
   self.b = b
   self.c = c
   self.self= self

   
A = Lahari("chinni", 23)
print(A.b)
print(A.c)

B = Lahari("sree", 24)
print(A.b)
print(B.b)
print(B.c)
