cars=["a", "b", "c"]
cars.pop(2)
print(cars)