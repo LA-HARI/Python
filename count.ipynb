cars=["a", "b", "c", "c"]
x= cars.count("c")
print(x)